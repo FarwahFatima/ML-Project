{
 "cells": [
  {
   "cell_type": "code",
   "execution_count": 42,
   "metadata": {},
   "outputs": [],
   "source": [
    "import numpy as np\n",
    "import pandas as pd\n",
    "import matplotlib.pyplot as plt \n",
    "import seaborn as sns"
   ]
  },
  {
   "cell_type": "code",
   "execution_count": 43,
   "metadata": {},
   "outputs": [],
   "source": [
    "from sklearn.linear_model import LinearRegression, Lasso, Ridge\n",
    "from sklearn.metrics import r2_score, mean_absolute_error, mean_squared_error\n",
    "from sklearn.neighbors import KNeighborsRegressor\n",
    "from sklearn.tree import DecisionTreeRegressor\n",
    "from sklearn.model_selection import RandomizedSearchCV\n",
    "from sklearn.ensemble import RandomForestRegressor,AdaBoostRegressor\n",
    "from sklearn.svm import SVR\n",
    "from catboost import CatBoostRegressor\n",
    "from xgboost import XGBRegressor\n",
    "import warnings"
   ]
  },
  {
   "cell_type": "code",
   "execution_count": 44,
   "metadata": {},
   "outputs": [],
   "source": [
    "df = pd.read_csv('data\\stud.csv')"
   ]
  },
  {
   "cell_type": "code",
   "execution_count": 45,
   "metadata": {},
   "outputs": [
    {
     "data": {
      "text/html": [
       "<div>\n",
       "<style scoped>\n",
       "    .dataframe tbody tr th:only-of-type {\n",
       "        vertical-align: middle;\n",
       "    }\n",
       "\n",
       "    .dataframe tbody tr th {\n",
       "        vertical-align: top;\n",
       "    }\n",
       "\n",
       "    .dataframe thead th {\n",
       "        text-align: right;\n",
       "    }\n",
       "</style>\n",
       "<table border=\"1\" class=\"dataframe\">\n",
       "  <thead>\n",
       "    <tr style=\"text-align: right;\">\n",
       "      <th></th>\n",
       "      <th>gender</th>\n",
       "      <th>race_ethnicity</th>\n",
       "      <th>parental_level_of_education</th>\n",
       "      <th>lunch</th>\n",
       "      <th>test_preparation_course</th>\n",
       "      <th>math_score</th>\n",
       "      <th>reading_score</th>\n",
       "      <th>writing_score</th>\n",
       "    </tr>\n",
       "  </thead>\n",
       "  <tbody>\n",
       "    <tr>\n",
       "      <th>0</th>\n",
       "      <td>female</td>\n",
       "      <td>group B</td>\n",
       "      <td>bachelor's degree</td>\n",
       "      <td>standard</td>\n",
       "      <td>none</td>\n",
       "      <td>72</td>\n",
       "      <td>72</td>\n",
       "      <td>74</td>\n",
       "    </tr>\n",
       "    <tr>\n",
       "      <th>1</th>\n",
       "      <td>female</td>\n",
       "      <td>group C</td>\n",
       "      <td>some college</td>\n",
       "      <td>standard</td>\n",
       "      <td>completed</td>\n",
       "      <td>69</td>\n",
       "      <td>90</td>\n",
       "      <td>88</td>\n",
       "    </tr>\n",
       "    <tr>\n",
       "      <th>2</th>\n",
       "      <td>female</td>\n",
       "      <td>group B</td>\n",
       "      <td>master's degree</td>\n",
       "      <td>standard</td>\n",
       "      <td>none</td>\n",
       "      <td>90</td>\n",
       "      <td>95</td>\n",
       "      <td>93</td>\n",
       "    </tr>\n",
       "    <tr>\n",
       "      <th>3</th>\n",
       "      <td>male</td>\n",
       "      <td>group A</td>\n",
       "      <td>associate's degree</td>\n",
       "      <td>free/reduced</td>\n",
       "      <td>none</td>\n",
       "      <td>47</td>\n",
       "      <td>57</td>\n",
       "      <td>44</td>\n",
       "    </tr>\n",
       "  </tbody>\n",
       "</table>\n",
       "</div>"
      ],
      "text/plain": [
       "   gender race_ethnicity parental_level_of_education         lunch  \\\n",
       "0  female        group B           bachelor's degree      standard   \n",
       "1  female        group C                some college      standard   \n",
       "2  female        group B             master's degree      standard   \n",
       "3    male        group A          associate's degree  free/reduced   \n",
       "\n",
       "  test_preparation_course  math_score  reading_score  writing_score  \n",
       "0                    none          72             72             74  \n",
       "1               completed          69             90             88  \n",
       "2                    none          90             95             93  \n",
       "3                    none          47             57             44  "
      ]
     },
     "execution_count": 45,
     "metadata": {},
     "output_type": "execute_result"
    }
   ],
   "source": [
    "df.head(4)"
   ]
  },
  {
   "cell_type": "code",
   "execution_count": 46,
   "metadata": {},
   "outputs": [],
   "source": [
    "X = df.drop('math_score', axis = 1)\n",
    "y = df['math_score']"
   ]
  },
  {
   "cell_type": "code",
   "execution_count": 47,
   "metadata": {},
   "outputs": [
    {
     "name": "stdout",
     "output_type": "stream",
     "text": [
      "Categories in gender variable:    ['female' 'male']\n",
      "Categories in race_ethnicity variable:    ['female' 'male']\n",
      "Categories in parental_level_of_education variable:    ['female' 'male']\n",
      "Categories in lunch variable:    ['female' 'male']\n",
      "Categories in test_preparation_course variable:    ['female' 'male']\n"
     ]
    }
   ],
   "source": [
    "print('Categories in gender variable:   ', end = ' ')\n",
    "print(df['gender'].unique())\n",
    "\n",
    "print('Categories in race_ethnicity variable:   ', end = ' ')\n",
    "print(df['gender'].unique())\n",
    "\n",
    "print('Categories in parental_level_of_education variable:   ', end = ' ')\n",
    "print(df['gender'].unique())\n",
    "\n",
    "print('Categories in lunch variable:   ', end = ' ')\n",
    "print(df['gender'].unique())\n",
    "\n",
    "print('Categories in test_preparation_course variable:   ', end = ' ')\n",
    "print(df['gender'].unique())"
   ]
  },
  {
   "cell_type": "code",
   "execution_count": 48,
   "metadata": {},
   "outputs": [],
   "source": [
    "num_features = X.select_dtypes(exclude = 'object').columns\n",
    "cat_features = X.select_dtypes(include = 'object').columns\n",
    "\n",
    "from sklearn.preprocessing import OneHotEncoder, StandardScaler\n",
    "from sklearn.compose import ColumnTransformer    # use to transform columns or data points\n",
    "\n",
    "numeric_transformer = StandardScaler()\n",
    "one_hot_transformer = OneHotEncoder()\n",
    "\n",
    "preprocess = ColumnTransformer(                            \n",
    "    [('OneHotEncoder', one_hot_transformer, cat_features),\n",
    "     ('StandardScaler', numeric_transformer, num_features),]\n",
    ")"
   ]
  },
  {
   "cell_type": "code",
   "execution_count": 49,
   "metadata": {},
   "outputs": [],
   "source": [
    "X = preprocess.fit_transform(X)"
   ]
  },
  {
   "cell_type": "code",
   "execution_count": 50,
   "metadata": {},
   "outputs": [
    {
     "data": {
      "text/plain": [
       "(1000, 19)"
      ]
     },
     "execution_count": 50,
     "metadata": {},
     "output_type": "execute_result"
    }
   ],
   "source": [
    "X.shape"
   ]
  },
  {
   "cell_type": "code",
   "execution_count": 51,
   "metadata": {},
   "outputs": [
    {
     "data": {
      "text/plain": [
       "((800, 19), (200, 19))"
      ]
     },
     "execution_count": 51,
     "metadata": {},
     "output_type": "execute_result"
    }
   ],
   "source": [
    "from sklearn.model_selection import train_test_split\n",
    "X_train, X_test, y_train, y_test = train_test_split(X,y,test_size=0.2,random_state=45)\n",
    "X_train.shape, X_test.shape"
   ]
  },
  {
   "cell_type": "code",
   "execution_count": 52,
   "metadata": {},
   "outputs": [],
   "source": [
    "def evaluate_model(true, predicted):\n",
    "    mae = mean_absolute_error(true, predicted)\n",
    "    mse = mean_squared_error(true, predicted)\n",
    "    rmse = np.sqrt(mean_squared_error(true, predicted))\n",
    "    r2_square = r2_score(true, predicted)\n",
    "    return mae, rmse, r2_square"
   ]
  },
  {
   "cell_type": "code",
   "execution_count": 53,
   "metadata": {},
   "outputs": [
    {
     "name": "stdout",
     "output_type": "stream",
     "text": [
      "Linear Regression\n",
      "Performance of Model for training set\n",
      "Mean Absolute Error: 4.227421875\n",
      "Root mean squared errr: 5.3275572461436305\n",
      "R2 Score: 0.8784732801014525\n",
      "---------------------------\n",
      "Performance of Model for test set\n",
      "Mean Absolute Error: 4.3428125\n",
      "Root mean squared errr: 5.388520422504679\n",
      "R2 Score: 0.862347961659728\n",
      "\n",
      "\n",
      "Lasso\n",
      "Performance of Model for training set\n",
      "Mean Absolute Error: 5.1433198436486895\n",
      "Root mean squared errr: 6.551062970535262\n",
      "R2 Score: 0.8162450385339813\n",
      "---------------------------\n",
      "Performance of Model for test set\n",
      "Mean Absolute Error: 5.243647829733857\n",
      "Root mean squared errr: 6.471076130248418\n",
      "R2 Score: 0.8014835049484342\n",
      "\n",
      "\n",
      "Ridge\n",
      "Performance of Model for training set\n",
      "Mean Absolute Error: 4.214173855641372\n",
      "Root mean squared errr: 5.312356813933704\n",
      "R2 Score: 0.8791657638458001\n",
      "---------------------------\n",
      "Performance of Model for test set\n",
      "Mean Absolute Error: 4.371787571326673\n",
      "Root mean squared errr: 5.412562627945164\n",
      "R2 Score: 0.8611168847385756\n",
      "\n",
      "\n",
      "K-Neighbors Regressor\n",
      "Performance of Model for training set\n",
      "Mean Absolute Error: 4.5915\n",
      "Root mean squared errr: 5.815556723134939\n",
      "R2 Score: 0.8551901451697311\n",
      "---------------------------\n",
      "Performance of Model for test set\n",
      "Mean Absolute Error: 5.622999999999999\n",
      "Root mean squared errr: 6.8853031886765885\n",
      "R2 Score: 0.7752551658650715\n",
      "\n",
      "\n",
      "Decision Tree\n",
      "Performance of Model for training set\n",
      "Mean Absolute Error: 0.02625\n",
      "Root mean squared errr: 0.375\n",
      "R2 Score: 0.9993978869202735\n",
      "---------------------------\n",
      "Performance of Model for test set\n",
      "Mean Absolute Error: 7.29\n",
      "Root mean squared errr: 8.92972563968233\n",
      "R2 Score: 0.6219756182807072\n",
      "\n",
      "\n",
      "Random Forest Regressor\n",
      "Performance of Model for training set\n",
      "Mean Absolute Error: 1.7911018750000005\n",
      "Root mean squared errr: 2.2867180379183583\n",
      "R2 Score: 0.9776106873415014\n",
      "---------------------------\n",
      "Performance of Model for test set\n",
      "Mean Absolute Error: 5.031111666666666\n",
      "Root mean squared errr: 6.210145605244159\n",
      "R2 Score: 0.8171701317676974\n",
      "\n",
      "\n",
      "XGBRegressor\n",
      "Performance of Model for training set\n",
      "Mean Absolute Error: 0.6032596767693758\n",
      "Root mean squared errr: 0.9207755983962833\n",
      "R2 Score: 0.9963698620509073\n",
      "---------------------------\n",
      "Performance of Model for test set\n",
      "Mean Absolute Error: 5.218496084213257\n",
      "Root mean squared errr: 6.546818279072241\n",
      "R2 Score: 0.7968091472077885\n",
      "\n",
      "\n",
      "CatBoosting Regressor\n",
      "Performance of Model for training set\n",
      "Mean Absolute Error: 2.3335659829522926\n",
      "Root mean squared errr: 2.9772239640977105\n",
      "R2 Score: 0.962047661741124\n",
      "---------------------------\n",
      "Performance of Model for test set\n",
      "Mean Absolute Error: 4.8234865923722685\n",
      "Root mean squared errr: 6.024370634106887\n",
      "R2 Score: 0.8279451393557709\n",
      "\n",
      "\n",
      "AdaBoost Regressor\n",
      "Performance of Model for training set\n",
      "Mean Absolute Error: 4.647442231047847\n",
      "Root mean squared errr: 5.748397883382329\n",
      "R2 Score: 0.858515401193353\n",
      "---------------------------\n",
      "Performance of Model for test set\n",
      "Mean Absolute Error: 4.938980333600188\n",
      "Root mean squared errr: 6.151785658432645\n",
      "R2 Score: 0.8205902789219404\n",
      "\n",
      "\n"
     ]
    }
   ],
   "source": [
    "models = {\n",
    "    \"Linear Regression\": LinearRegression(),\n",
    "    \"Lasso\": Lasso(),\n",
    "    \"Ridge\": Ridge(),\n",
    "    \"K-Neighbors Regressor\": KNeighborsRegressor(),\n",
    "    \"Decision Tree\": DecisionTreeRegressor(),\n",
    "    \"Random Forest Regressor\": RandomForestRegressor(),\n",
    "    \"XGBRegressor\": XGBRegressor(), \n",
    "    \"CatBoosting Regressor\": CatBoostRegressor(verbose=False),\n",
    "    \"AdaBoost Regressor\": AdaBoostRegressor()\n",
    "}\n",
    "\n",
    "model_list = []\n",
    "r2_list = []\n",
    "\n",
    "for i in range(len(list(models))):\n",
    "    model = list(models.values())[i]\n",
    "    model.fit(X_train, y_train)\n",
    "\n",
    "    train_pred = model.predict(X_train)\n",
    "    test_pred = model.predict(X_test)\n",
    "\n",
    "    model_train_mae, model_train_rmse, model_train_r2 = evaluate_model(y_train, train_pred)\n",
    "\n",
    "    model_test_mae, model_test_rmse, model_test_r2 = evaluate_model(y_test, test_pred)\n",
    "\n",
    "    print(list(models.keys())[i])\n",
    "\n",
    "    model_list.append(list(models.keys())[i])\n",
    "\n",
    "    print('Performance of Model for training set')\n",
    "    print(f'Mean Absolute Error: {model_train_mae}')\n",
    "    print(f'Root mean squared errr: {model_train_rmse}')\n",
    "    print(f'R2 Score: {model_train_r2}')\n",
    "    print('---------------------------')\n",
    "    print('Performance of Model for test set')\n",
    "    print(f'Mean Absolute Error: {model_test_mae}')\n",
    "    print(f'Root mean squared errr: {model_test_rmse}')\n",
    "    print(f'R2 Score: {model_test_r2}')\n",
    "    r2_list.append(model_test_r2)\n",
    "    print('\\n')"
   ]
  },
  {
   "cell_type": "code",
   "execution_count": 54,
   "metadata": {},
   "outputs": [
    {
     "data": {
      "text/html": [
       "<div>\n",
       "<style scoped>\n",
       "    .dataframe tbody tr th:only-of-type {\n",
       "        vertical-align: middle;\n",
       "    }\n",
       "\n",
       "    .dataframe tbody tr th {\n",
       "        vertical-align: top;\n",
       "    }\n",
       "\n",
       "    .dataframe thead th {\n",
       "        text-align: right;\n",
       "    }\n",
       "</style>\n",
       "<table border=\"1\" class=\"dataframe\">\n",
       "  <thead>\n",
       "    <tr style=\"text-align: right;\">\n",
       "      <th></th>\n",
       "      <th>Model_name</th>\n",
       "      <th>R2_score</th>\n",
       "    </tr>\n",
       "  </thead>\n",
       "  <tbody>\n",
       "    <tr>\n",
       "      <th>0</th>\n",
       "      <td>Linear Regression</td>\n",
       "      <td>0.862348</td>\n",
       "    </tr>\n",
       "    <tr>\n",
       "      <th>2</th>\n",
       "      <td>Ridge</td>\n",
       "      <td>0.861117</td>\n",
       "    </tr>\n",
       "    <tr>\n",
       "      <th>7</th>\n",
       "      <td>CatBoosting Regressor</td>\n",
       "      <td>0.827945</td>\n",
       "    </tr>\n",
       "    <tr>\n",
       "      <th>8</th>\n",
       "      <td>AdaBoost Regressor</td>\n",
       "      <td>0.820590</td>\n",
       "    </tr>\n",
       "    <tr>\n",
       "      <th>5</th>\n",
       "      <td>Random Forest Regressor</td>\n",
       "      <td>0.817170</td>\n",
       "    </tr>\n",
       "    <tr>\n",
       "      <th>1</th>\n",
       "      <td>Lasso</td>\n",
       "      <td>0.801484</td>\n",
       "    </tr>\n",
       "    <tr>\n",
       "      <th>6</th>\n",
       "      <td>XGBRegressor</td>\n",
       "      <td>0.796809</td>\n",
       "    </tr>\n",
       "    <tr>\n",
       "      <th>3</th>\n",
       "      <td>K-Neighbors Regressor</td>\n",
       "      <td>0.775255</td>\n",
       "    </tr>\n",
       "    <tr>\n",
       "      <th>4</th>\n",
       "      <td>Decision Tree</td>\n",
       "      <td>0.621976</td>\n",
       "    </tr>\n",
       "  </tbody>\n",
       "</table>\n",
       "</div>"
      ],
      "text/plain": [
       "                Model_name  R2_score\n",
       "0        Linear Regression  0.862348\n",
       "2                    Ridge  0.861117\n",
       "7    CatBoosting Regressor  0.827945\n",
       "8       AdaBoost Regressor  0.820590\n",
       "5  Random Forest Regressor  0.817170\n",
       "1                    Lasso  0.801484\n",
       "6             XGBRegressor  0.796809\n",
       "3    K-Neighbors Regressor  0.775255\n",
       "4            Decision Tree  0.621976"
      ]
     },
     "execution_count": 54,
     "metadata": {},
     "output_type": "execute_result"
    }
   ],
   "source": [
    "pd.DataFrame(list(zip(model_list, r2_list)), columns = ['Model_name', 'R2_score']).sort_values(by=['R2_score'], ascending = False)"
   ]
  },
  {
   "cell_type": "code",
   "execution_count": 55,
   "metadata": {},
   "outputs": [
    {
     "name": "stdout",
     "output_type": "stream",
     "text": [
      "Accuracy of the model is 85.38\n"
     ]
    }
   ],
   "source": [
    "model1 = Ridge()\n",
    "model1.fit(X_train, y_train)\n",
    "y_pred = model1.predict(X_test)\n",
    "r2_score = r2_score(y_pred , y_test)*100\n",
    "print(\"Accuracy of the model is %.2f\" %r2_score)"
   ]
  },
  {
   "cell_type": "code",
   "execution_count": 57,
   "metadata": {},
   "outputs": [
    {
     "data": {
      "text/plain": [
       "Text(0, 0.5, 'predicted')"
      ]
     },
     "execution_count": 57,
     "metadata": {},
     "output_type": "execute_result"
    },
    {
     "data": {
      "image/png": "[encoded data removed]",
      "text/plain": [
       "<Figure size 640x480 with 1 Axes>"
      ]
     },
     "metadata": {},
     "output_type": "display_data"
    }
   ],
   "source": [
    "plt.scatter(y_test, y_pred)\n",
    "plt.xlabel('actual')\n",
    "plt.ylabel('predicted')"
   ]
  },
  {
   "cell_type": "code",
   "execution_count": 58,
   "metadata": {},
   "outputs": [
    {
     "data": {
      "text/plain": [
       "<Axes: xlabel='math_score'>"
      ]
     },
     "execution_count": 58,
     "metadata": {},
     "output_type": "execute_result"
    },
    {
     "data": {
      "image/png": "[encoded data removed]",
      "text/plain": [
       "<Figure size 640x480 with 1 Axes>"
      ]
     },
     "metadata": {},
     "output_type": "display_data"
    }
   ],
   "source": [
    "sns.regplot(x = y_test, y= y_pred)"
   ]
  },
  {
   "cell_type": "code",
   "execution_count": 61,
   "metadata": {},
   "outputs": [],
   "source": [
    "prediction_df = pd.DataFrame({'real_values': y_test, 'predicted_values':y_pred, 'difference': y_test - y_pred})"
   ]
  },
  {
   "cell_type": "code",
   "execution_count": 62,
   "metadata": {},
   "outputs": [
    {
     "data": {
      "text/html": [
       "<div>\n",
       "<style scoped>\n",
       "    .dataframe tbody tr th:only-of-type {\n",
       "        vertical-align: middle;\n",
       "    }\n",
       "\n",
       "    .dataframe tbody tr th {\n",
       "        vertical-align: top;\n",
       "    }\n",
       "\n",
       "    .dataframe thead th {\n",
       "        text-align: right;\n",
       "    }\n",
       "</style>\n",
       "<table border=\"1\" class=\"dataframe\">\n",
       "  <thead>\n",
       "    <tr style=\"text-align: right;\">\n",
       "      <th></th>\n",
       "      <th>real_values</th>\n",
       "      <th>predicted_values</th>\n",
       "      <th>difference</th>\n",
       "    </tr>\n",
       "  </thead>\n",
       "  <tbody>\n",
       "    <tr>\n",
       "      <th>726</th>\n",
       "      <td>65</td>\n",
       "      <td>70.7500</td>\n",
       "      <td>-5.7500</td>\n",
       "    </tr>\n",
       "    <tr>\n",
       "      <th>243</th>\n",
       "      <td>59</td>\n",
       "      <td>58.6250</td>\n",
       "      <td>0.3750</td>\n",
       "    </tr>\n",
       "    <tr>\n",
       "      <th>342</th>\n",
       "      <td>69</td>\n",
       "      <td>64.8750</td>\n",
       "      <td>4.1250</td>\n",
       "    </tr>\n",
       "    <tr>\n",
       "      <th>976</th>\n",
       "      <td>60</td>\n",
       "      <td>61.3750</td>\n",
       "      <td>-1.3750</td>\n",
       "    </tr>\n",
       "    <tr>\n",
       "      <th>919</th>\n",
       "      <td>91</td>\n",
       "      <td>95.4375</td>\n",
       "      <td>-4.4375</td>\n",
       "    </tr>\n",
       "    <tr>\n",
       "      <th>...</th>\n",
       "      <td>...</td>\n",
       "      <td>...</td>\n",
       "      <td>...</td>\n",
       "    </tr>\n",
       "    <tr>\n",
       "      <th>458</th>\n",
       "      <td>100</td>\n",
       "      <td>96.1875</td>\n",
       "      <td>3.8125</td>\n",
       "    </tr>\n",
       "    <tr>\n",
       "      <th>169</th>\n",
       "      <td>67</td>\n",
       "      <td>57.8125</td>\n",
       "      <td>9.1875</td>\n",
       "    </tr>\n",
       "    <tr>\n",
       "      <th>297</th>\n",
       "      <td>71</td>\n",
       "      <td>77.8125</td>\n",
       "      <td>-6.8125</td>\n",
       "    </tr>\n",
       "    <tr>\n",
       "      <th>10</th>\n",
       "      <td>58</td>\n",
       "      <td>59.7500</td>\n",
       "      <td>-1.7500</td>\n",
       "    </tr>\n",
       "    <tr>\n",
       "      <th>212</th>\n",
       "      <td>42</td>\n",
       "      <td>51.4375</td>\n",
       "      <td>-9.4375</td>\n",
       "    </tr>\n",
       "  </tbody>\n",
       "</table>\n",
       "<p>200 rows × 3 columns</p>\n",
       "</div>"
      ],
      "text/plain": [
       "     real_values  predicted_values  difference\n",
       "726           65           70.7500     -5.7500\n",
       "243           59           58.6250      0.3750\n",
       "342           69           64.8750      4.1250\n",
       "976           60           61.3750     -1.3750\n",
       "919           91           95.4375     -4.4375\n",
       "..           ...               ...         ...\n",
       "458          100           96.1875      3.8125\n",
       "169           67           57.8125      9.1875\n",
       "297           71           77.8125     -6.8125\n",
       "10            58           59.7500     -1.7500\n",
       "212           42           51.4375     -9.4375\n",
       "\n",
       "[200 rows x 3 columns]"
      ]
     },
     "execution_count": 62,
     "metadata": {},
     "output_type": "execute_result"
    }
   ],
   "source": [
    "prediction_df"
   ]
  },
  {
   "cell_type": "code",
   "execution_count": null,
   "metadata": {},
   "outputs": [],
   "source": []
  }
 ],
 "metadata": {
  "kernelspec": {
   "display_name": "venv",
   "language": "python",
   "name": "python3"
  },
  "language_info": {
   "codemirror_mode": {
    "name": "ipython",
    "version": 3
   },
   "file_extension": ".py",
   "mimetype": "text/x-python",
   "name": "python",
   "nbconvert_exporter": "python",
   "pygments_lexer": "ipython3",
   "version": "3.9.4"
  }
 },
 "nbformat": 4,
 "nbformat_minor": 2
}
